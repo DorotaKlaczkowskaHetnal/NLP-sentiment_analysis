{
 "cells": [
  {
   "cell_type": "markdown",
   "id": "4a3f6d2f",
   "metadata": {},
   "source": [
    "# DATA AND PROBLEM DESCRIPTION"
   ]
  },
  {
   "cell_type": "markdown",
   "id": "d356048b",
   "metadata": {},
   "source": [
    "The data was downloaded from the website: https://www.kaggle.com/datasets/gargmanas/sentimental-analysis-for-tweets\n",
    "\n",
    "The dataset contains tweets on the basis of which it has been determined whether the author of the post is depressed or not. I will conduct a sentiment analysis that will determine, based on the emotions hidden behind the tweets, whether a particular tweet is written by a person with depression (labeled as 1 in the decision class) or whether the person does not have depression (labeled as 0 in the decision class). The dataset contains 10,314 tweets."
   ]
  },
  {
   "cell_type": "code",
   "execution_count": 1,
   "id": "aa210f79",
   "metadata": {},
   "outputs": [],
   "source": [
    "import pandas as pd\n",
    "import matplotlib.pyplot as plt\n",
    "import seaborn as sns\n",
    "import nltk"
   ]
  },
  {
   "cell_type": "code",
   "execution_count": 2,
   "id": "f4b449ce",
   "metadata": {},
   "outputs": [],
   "source": [
    "df=pd.read_csv('sentiment_tweets3.csv')"
   ]
  },
  {
   "cell_type": "markdown",
   "id": "8e9c9e9d",
   "metadata": {},
   "source": [
    "# DATA ANALYSIS"
   ]
  },
  {
   "cell_type": "code",
   "execution_count": 3,
   "id": "b7630795",
   "metadata": {},
   "outputs": [
    {
     "data": {
      "text/html": [
       "<div>\n",
       "<style scoped>\n",
       "    .dataframe tbody tr th:only-of-type {\n",
       "        vertical-align: middle;\n",
       "    }\n",
       "\n",
       "    .dataframe tbody tr th {\n",
       "        vertical-align: top;\n",
       "    }\n",
       "\n",
       "    .dataframe thead th {\n",
       "        text-align: right;\n",
       "    }\n",
       "</style>\n",
       "<table border=\"1\" class=\"dataframe\">\n",
       "  <thead>\n",
       "    <tr style=\"text-align: right;\">\n",
       "      <th></th>\n",
       "      <th>Index</th>\n",
       "      <th>message to examine</th>\n",
       "      <th>label (depression result)</th>\n",
       "    </tr>\n",
       "  </thead>\n",
       "  <tbody>\n",
       "    <tr>\n",
       "      <th>0</th>\n",
       "      <td>106</td>\n",
       "      <td>just had a real good moment. i missssssssss hi...</td>\n",
       "      <td>0</td>\n",
       "    </tr>\n",
       "    <tr>\n",
       "      <th>1</th>\n",
       "      <td>217</td>\n",
       "      <td>is reading manga  http://plurk.com/p/mzp1e</td>\n",
       "      <td>0</td>\n",
       "    </tr>\n",
       "    <tr>\n",
       "      <th>2</th>\n",
       "      <td>220</td>\n",
       "      <td>@comeagainjen http://twitpic.com/2y2lx - http:...</td>\n",
       "      <td>0</td>\n",
       "    </tr>\n",
       "    <tr>\n",
       "      <th>3</th>\n",
       "      <td>288</td>\n",
       "      <td>@lapcat Need to send 'em to my accountant tomo...</td>\n",
       "      <td>0</td>\n",
       "    </tr>\n",
       "    <tr>\n",
       "      <th>4</th>\n",
       "      <td>540</td>\n",
       "      <td>ADD ME ON MYSPACE!!!  myspace.com/LookThunder</td>\n",
       "      <td>0</td>\n",
       "    </tr>\n",
       "  </tbody>\n",
       "</table>\n",
       "</div>"
      ],
      "text/plain": [
       "   Index                                 message to examine  \\\n",
       "0    106  just had a real good moment. i missssssssss hi...   \n",
       "1    217         is reading manga  http://plurk.com/p/mzp1e   \n",
       "2    220  @comeagainjen http://twitpic.com/2y2lx - http:...   \n",
       "3    288  @lapcat Need to send 'em to my accountant tomo...   \n",
       "4    540      ADD ME ON MYSPACE!!!  myspace.com/LookThunder   \n",
       "\n",
       "   label (depression result)  \n",
       "0                          0  \n",
       "1                          0  \n",
       "2                          0  \n",
       "3                          0  \n",
       "4                          0  "
      ]
     },
     "execution_count": 3,
     "metadata": {},
     "output_type": "execute_result"
    }
   ],
   "source": [
    "df.head()"
   ]
  },
  {
   "cell_type": "code",
   "execution_count": 4,
   "id": "2812a2e4",
   "metadata": {},
   "outputs": [
    {
     "name": "stdout",
     "output_type": "stream",
     "text": [
      "<class 'pandas.core.frame.DataFrame'>\n",
      "RangeIndex: 10314 entries, 0 to 10313\n",
      "Data columns (total 3 columns):\n",
      " #   Column                     Non-Null Count  Dtype \n",
      "---  ------                     --------------  ----- \n",
      " 0   Index                      10314 non-null  int64 \n",
      " 1   message to examine         10314 non-null  object\n",
      " 2   label (depression result)  10314 non-null  int64 \n",
      "dtypes: int64(2), object(1)\n",
      "memory usage: 241.9+ KB\n"
     ]
    }
   ],
   "source": [
    "df.info()\n",
    "#There are no missing values."
   ]
  },
  {
   "cell_type": "code",
   "execution_count": 5,
   "id": "ede79560",
   "metadata": {},
   "outputs": [
    {
     "data": {
      "text/html": [
       "<div>\n",
       "<style scoped>\n",
       "    .dataframe tbody tr th:only-of-type {\n",
       "        vertical-align: middle;\n",
       "    }\n",
       "\n",
       "    .dataframe tbody tr th {\n",
       "        vertical-align: top;\n",
       "    }\n",
       "\n",
       "    .dataframe thead th {\n",
       "        text-align: right;\n",
       "    }\n",
       "</style>\n",
       "<table border=\"1\" class=\"dataframe\">\n",
       "  <thead>\n",
       "    <tr style=\"text-align: right;\">\n",
       "      <th></th>\n",
       "      <th>Index</th>\n",
       "      <th>label (depression result)</th>\n",
       "    </tr>\n",
       "  </thead>\n",
       "  <tbody>\n",
       "    <tr>\n",
       "      <th>count</th>\n",
       "      <td>10314.000000</td>\n",
       "      <td>10314.000000</td>\n",
       "    </tr>\n",
       "    <tr>\n",
       "      <th>mean</th>\n",
       "      <td>491253.470525</td>\n",
       "      <td>0.224355</td>\n",
       "    </tr>\n",
       "    <tr>\n",
       "      <th>std</th>\n",
       "      <td>261688.134407</td>\n",
       "      <td>0.417177</td>\n",
       "    </tr>\n",
       "    <tr>\n",
       "      <th>min</th>\n",
       "      <td>106.000000</td>\n",
       "      <td>0.000000</td>\n",
       "    </tr>\n",
       "    <tr>\n",
       "      <th>25%</th>\n",
       "      <td>263019.250000</td>\n",
       "      <td>0.000000</td>\n",
       "    </tr>\n",
       "    <tr>\n",
       "      <th>50%</th>\n",
       "      <td>514988.000000</td>\n",
       "      <td>0.000000</td>\n",
       "    </tr>\n",
       "    <tr>\n",
       "      <th>75%</th>\n",
       "      <td>773521.500000</td>\n",
       "      <td>0.000000</td>\n",
       "    </tr>\n",
       "    <tr>\n",
       "      <th>max</th>\n",
       "      <td>802313.000000</td>\n",
       "      <td>1.000000</td>\n",
       "    </tr>\n",
       "  </tbody>\n",
       "</table>\n",
       "</div>"
      ],
      "text/plain": [
       "               Index  label (depression result)\n",
       "count   10314.000000               10314.000000\n",
       "mean   491253.470525                   0.224355\n",
       "std    261688.134407                   0.417177\n",
       "min       106.000000                   0.000000\n",
       "25%    263019.250000                   0.000000\n",
       "50%    514988.000000                   0.000000\n",
       "75%    773521.500000                   0.000000\n",
       "max    802313.000000                   1.000000"
      ]
     },
     "execution_count": 5,
     "metadata": {},
     "output_type": "execute_result"
    }
   ],
   "source": [
    "df.describe()"
   ]
  },
  {
   "cell_type": "code",
   "execution_count": 6,
   "id": "a8ca33b8",
   "metadata": {},
   "outputs": [
    {
     "data": {
      "image/png": "[encoded data removed]",
      "text/plain": [
       "<Figure size 432x288 with 1 Axes>"
      ]
     },
     "metadata": {
      "needs_background": "light"
     },
     "output_type": "display_data"
    }
   ],
   "source": [
    "sns.countplot(x='label (depression result)',data = df)\n",
    "plt.show()"
   ]
  },
  {
   "cell_type": "code",
   "execution_count": 7,
   "id": "b2998327",
   "metadata": {},
   "outputs": [
    {
     "name": "stdout",
     "output_type": "stream",
     "text": [
      "Number of tweets from individuals without depression and with depression:  label (depression result)\n",
      "0    8000\n",
      "1    2314\n",
      "Name: message to examine, dtype: int64\n"
     ]
    }
   ],
   "source": [
    "print('Number of tweets from individuals without depression and with depression: ', df.groupby('label (depression result)')['message to examine'].count());"
   ]
  },
  {
   "cell_type": "markdown",
   "id": "a4a21b59",
   "metadata": {},
   "source": [
    "The chart shows that there are many more tweets written by individuals without depression in the data.\n",
    "Due to the asymmetric distribution of the data, the constructed model may have a tendency to classify the majority\n",
    "of tweets as written by individuals without depression. In other words, the accuracy of classifying tweets from\n",
    "individuals without depression will be very high, in contrast to the accuracy of classifying tweets from individuals with depression.\n"
   ]
  },
  {
   "cell_type": "code",
   "execution_count": 8,
   "id": "7073b9d7",
   "metadata": {},
   "outputs": [],
   "source": [
    "df['length']=df['message to examine'].apply(len)"
   ]
  },
  {
   "cell_type": "code",
   "execution_count": 9,
   "id": "15d7e1dd",
   "metadata": {},
   "outputs": [
    {
     "data": {
      "text/html": [
       "<div>\n",
       "<style scoped>\n",
       "    .dataframe tbody tr th:only-of-type {\n",
       "        vertical-align: middle;\n",
       "    }\n",
       "\n",
       "    .dataframe tbody tr th {\n",
       "        vertical-align: top;\n",
       "    }\n",
       "\n",
       "    .dataframe thead th {\n",
       "        text-align: right;\n",
       "    }\n",
       "</style>\n",
       "<table border=\"1\" class=\"dataframe\">\n",
       "  <thead>\n",
       "    <tr style=\"text-align: right;\">\n",
       "      <th></th>\n",
       "      <th>Index</th>\n",
       "      <th>message to examine</th>\n",
       "      <th>label (depression result)</th>\n",
       "      <th>length</th>\n",
       "    </tr>\n",
       "  </thead>\n",
       "  <tbody>\n",
       "    <tr>\n",
       "      <th>0</th>\n",
       "      <td>106</td>\n",
       "      <td>just had a real good moment. i missssssssss hi...</td>\n",
       "      <td>0</td>\n",
       "      <td>57</td>\n",
       "    </tr>\n",
       "    <tr>\n",
       "      <th>1</th>\n",
       "      <td>217</td>\n",
       "      <td>is reading manga  http://plurk.com/p/mzp1e</td>\n",
       "      <td>0</td>\n",
       "      <td>42</td>\n",
       "    </tr>\n",
       "    <tr>\n",
       "      <th>2</th>\n",
       "      <td>220</td>\n",
       "      <td>@comeagainjen http://twitpic.com/2y2lx - http:...</td>\n",
       "      <td>0</td>\n",
       "      <td>84</td>\n",
       "    </tr>\n",
       "    <tr>\n",
       "      <th>3</th>\n",
       "      <td>288</td>\n",
       "      <td>@lapcat Need to send 'em to my accountant tomo...</td>\n",
       "      <td>0</td>\n",
       "      <td>135</td>\n",
       "    </tr>\n",
       "    <tr>\n",
       "      <th>4</th>\n",
       "      <td>540</td>\n",
       "      <td>ADD ME ON MYSPACE!!!  myspace.com/LookThunder</td>\n",
       "      <td>0</td>\n",
       "      <td>45</td>\n",
       "    </tr>\n",
       "    <tr>\n",
       "      <th>...</th>\n",
       "      <td>...</td>\n",
       "      <td>...</td>\n",
       "      <td>...</td>\n",
       "      <td>...</td>\n",
       "    </tr>\n",
       "    <tr>\n",
       "      <th>10309</th>\n",
       "      <td>802309</td>\n",
       "      <td>No Depression by G Herbo is my mood from now o...</td>\n",
       "      <td>1</td>\n",
       "      <td>101</td>\n",
       "    </tr>\n",
       "    <tr>\n",
       "      <th>10310</th>\n",
       "      <td>802310</td>\n",
       "      <td>What do you do when depression succumbs the br...</td>\n",
       "      <td>1</td>\n",
       "      <td>97</td>\n",
       "    </tr>\n",
       "    <tr>\n",
       "      <th>10311</th>\n",
       "      <td>802311</td>\n",
       "      <td>Ketamine Nasal Spray Shows Promise Against Dep...</td>\n",
       "      <td>1</td>\n",
       "      <td>96</td>\n",
       "    </tr>\n",
       "    <tr>\n",
       "      <th>10312</th>\n",
       "      <td>802312</td>\n",
       "      <td>dont mistake a bad day with depression! everyo...</td>\n",
       "      <td>1</td>\n",
       "      <td>57</td>\n",
       "    </tr>\n",
       "    <tr>\n",
       "      <th>10313</th>\n",
       "      <td>802313</td>\n",
       "      <td>0</td>\n",
       "      <td>1</td>\n",
       "      <td>1</td>\n",
       "    </tr>\n",
       "  </tbody>\n",
       "</table>\n",
       "<p>10314 rows × 4 columns</p>\n",
       "</div>"
      ],
      "text/plain": [
       "        Index                                 message to examine  \\\n",
       "0         106  just had a real good moment. i missssssssss hi...   \n",
       "1         217         is reading manga  http://plurk.com/p/mzp1e   \n",
       "2         220  @comeagainjen http://twitpic.com/2y2lx - http:...   \n",
       "3         288  @lapcat Need to send 'em to my accountant tomo...   \n",
       "4         540      ADD ME ON MYSPACE!!!  myspace.com/LookThunder   \n",
       "...       ...                                                ...   \n",
       "10309  802309  No Depression by G Herbo is my mood from now o...   \n",
       "10310  802310  What do you do when depression succumbs the br...   \n",
       "10311  802311  Ketamine Nasal Spray Shows Promise Against Dep...   \n",
       "10312  802312  dont mistake a bad day with depression! everyo...   \n",
       "10313  802313                                                  0   \n",
       "\n",
       "       label (depression result)  length  \n",
       "0                              0      57  \n",
       "1                              0      42  \n",
       "2                              0      84  \n",
       "3                              0     135  \n",
       "4                              0      45  \n",
       "...                          ...     ...  \n",
       "10309                          1     101  \n",
       "10310                          1      97  \n",
       "10311                          1      96  \n",
       "10312                          1      57  \n",
       "10313                          1       1  \n",
       "\n",
       "[10314 rows x 4 columns]"
      ]
     },
     "execution_count": 9,
     "metadata": {},
     "output_type": "execute_result"
    }
   ],
   "source": [
    "df"
   ]
  },
  {
   "cell_type": "markdown",
   "id": "d54acb0f",
   "metadata": {},
   "source": [
    "# VISUALISATION"
   ]
  },
  {
   "cell_type": "code",
   "execution_count": 10,
   "id": "2d4dd634",
   "metadata": {},
   "outputs": [
    {
     "data": {
      "text/plain": [
       "<AxesSubplot:title={'center':'length of tweets'}, ylabel='Frequency'>"
      ]
     },
     "execution_count": 10,
     "metadata": {},
     "output_type": "execute_result"
    },
    {
     "data": {
      "image/png": "[encoded data removed]",
      "text/plain": [
       "<Figure size 720x720 with 1 Axes>"
      ]
     },
     "metadata": {
      "needs_background": "light"
     },
     "output_type": "display_data"
    }
   ],
   "source": [
    "df['length'].plot(bins=200, kind='hist', figsize=(10,10), title='length of tweets') "
   ]
  },
  {
   "cell_type": "code",
   "execution_count": 11,
   "id": "c406610c",
   "metadata": {},
   "outputs": [
    {
     "data": {
      "text/plain": [
       "count    10314.000000\n",
       "mean        92.616153\n",
       "std         64.670905\n",
       "min          1.000000\n",
       "25%         48.000000\n",
       "50%         78.000000\n",
       "75%        119.000000\n",
       "max        874.000000\n",
       "Name: length, dtype: float64"
      ]
     },
     "execution_count": 11,
     "metadata": {},
     "output_type": "execute_result"
    }
   ],
   "source": [
    "df['length'].describe()"
   ]
  },
  {
   "cell_type": "code",
   "execution_count": 12,
   "id": "4e3d7e94",
   "metadata": {},
   "outputs": [
    {
     "data": {
      "image/png": "[encoded data removed]",
      "text/plain": [
       "<Figure size 864x288 with 2 Axes>"
      ]
     },
     "metadata": {
      "needs_background": "light"
     },
     "output_type": "display_data"
    }
   ],
   "source": [
    "#Create a figure with subplots\n",
    "fig, axes = plt.subplots(nrows=1, ncols=2, figsize=(12, 4), sharex=True, sharey=True)\n",
    "\n",
    "#Create histograms for each class\n",
    "for i, label in enumerate(df['label (depression result)'].unique()):\n",
    "    df[df['label (depression result)'] == label].hist(column='length', bins=200, ax=axes[i])\n",
    "    axes[i].set_title(f'Depression Result: {label}')\n",
    "\n",
    "#Add a common x-axis label for the entire figure\n",
    "fig.text(0.5, 0.04, 'Length od the massage', ha='center')\n",
    "\n",
    "#Add a common y-axis label for the entire figure\n",
    "fig.text(0.04, 0.5, 'Frequency', va='center', rotation='vertical')\n",
    "\n",
    "#Show the plot\n",
    "plt.show()"
   ]
  },
  {
   "cell_type": "markdown",
   "id": "973f8948",
   "metadata": {},
   "source": [
    "The above histograms show the distribution of tweet lengths. The chart on the left displays the distribution \n",
    "of tweet lengths from people without depression, while the chart on the right shows the distribution of tweet \n",
    "lengths from people with depression. Comparing these two charts makes it clear that individuals with depression \n",
    "often write longer messages.\""
   ]
  },
  {
   "cell_type": "code",
   "execution_count": 13,
   "id": "78575259",
   "metadata": {},
   "outputs": [
    {
     "data": {
      "text/html": [
       "<div>\n",
       "<style scoped>\n",
       "    .dataframe tbody tr th:only-of-type {\n",
       "        vertical-align: middle;\n",
       "    }\n",
       "\n",
       "    .dataframe tbody tr th {\n",
       "        vertical-align: top;\n",
       "    }\n",
       "\n",
       "    .dataframe thead th {\n",
       "        text-align: right;\n",
       "    }\n",
       "</style>\n",
       "<table border=\"1\" class=\"dataframe\">\n",
       "  <thead>\n",
       "    <tr style=\"text-align: right;\">\n",
       "      <th></th>\n",
       "      <th>count</th>\n",
       "      <th>mean</th>\n",
       "      <th>std</th>\n",
       "      <th>min</th>\n",
       "      <th>25%</th>\n",
       "      <th>50%</th>\n",
       "      <th>75%</th>\n",
       "      <th>max</th>\n",
       "    </tr>\n",
       "    <tr>\n",
       "      <th>label (depression result)</th>\n",
       "      <th></th>\n",
       "      <th></th>\n",
       "      <th></th>\n",
       "      <th></th>\n",
       "      <th></th>\n",
       "      <th></th>\n",
       "      <th></th>\n",
       "      <th></th>\n",
       "    </tr>\n",
       "  </thead>\n",
       "  <tbody>\n",
       "    <tr>\n",
       "      <th>0</th>\n",
       "      <td>8000.0</td>\n",
       "      <td>73.560000</td>\n",
       "      <td>35.875678</td>\n",
       "      <td>6.0</td>\n",
       "      <td>44.0</td>\n",
       "      <td>69.0</td>\n",
       "      <td>102.0</td>\n",
       "      <td>232.0</td>\n",
       "    </tr>\n",
       "    <tr>\n",
       "      <th>1</th>\n",
       "      <td>2314.0</td>\n",
       "      <td>158.497407</td>\n",
       "      <td>92.728396</td>\n",
       "      <td>1.0</td>\n",
       "      <td>86.0</td>\n",
       "      <td>137.5</td>\n",
       "      <td>231.0</td>\n",
       "      <td>874.0</td>\n",
       "    </tr>\n",
       "  </tbody>\n",
       "</table>\n",
       "</div>"
      ],
      "text/plain": [
       "                            count        mean        std  min   25%    50%  \\\n",
       "label (depression result)                                                    \n",
       "0                          8000.0   73.560000  35.875678  6.0  44.0   69.0   \n",
       "1                          2314.0  158.497407  92.728396  1.0  86.0  137.5   \n",
       "\n",
       "                             75%    max  \n",
       "label (depression result)                \n",
       "0                          102.0  232.0  \n",
       "1                          231.0  874.0  "
      ]
     },
     "execution_count": 13,
     "metadata": {},
     "output_type": "execute_result"
    }
   ],
   "source": [
    "df.groupby('label (depression result)')['length'].describe()"
   ]
  },
  {
   "cell_type": "markdown",
   "id": "2123394b",
   "metadata": {},
   "source": [
    "The average number of characters used in tweets by people without depression is 73.56, whereas the same average \n",
    "for people with depression is 158.50."
   ]
  },
  {
   "cell_type": "markdown",
   "id": "2d0f37da",
   "metadata": {},
   "source": [
    "# DATA CLEANING"
   ]
  },
  {
   "cell_type": "code",
   "execution_count": 14,
   "id": "66bf43b8",
   "metadata": {},
   "outputs": [
    {
     "name": "stderr",
     "output_type": "stream",
     "text": [
      "[nltk_data] Downloading package stopwords to\n",
      "[nltk_data]     C:\\Users\\klacz\\AppData\\Roaming\\nltk_data...\n",
      "[nltk_data]   Package stopwords is already up-to-date!\n"
     ]
    }
   ],
   "source": [
    "import nltk\n",
    "import string\n",
    "nltk.download('stopwords')\n",
    "import re\n",
    "from nltk.corpus import stopwords"
   ]
  },
  {
   "cell_type": "code",
   "execution_count": 15,
   "id": "9aae3bd1",
   "metadata": {},
   "outputs": [
    {
     "data": {
      "text/plain": [
       "0     just had a real good moment. i missssssssss hi...\n",
       "1            is reading manga  http://plurk.com/p/mzp1e\n",
       "2     @comeagainjen http://twitpic.com/2y2lx - http:...\n",
       "3     @lapcat Need to send 'em to my accountant tomo...\n",
       "4         ADD ME ON MYSPACE!!!  myspace.com/LookThunder\n",
       "5                 so sleepy. good times tonight though \n",
       "6     @SilkCharm re: #nbn as someone already said, d...\n",
       "7                    23 or 24ï¿½C possible today. Nice \n",
       "8           nite twitterville  workout in the am  -ciao\n",
       "9       @daNanner Night, darlin'!  Sweet dreams to you \n",
       "10                             Good morning everybody! \n",
       "11    Finally! I just created my WordPress Blog. The...\n",
       "12    kisha they cnt get over u til they get out frm...\n",
       "13    @nicolerichie Yes i remember that band, It was...\n",
       "14               I really love reflections and shadows \n",
       "Name: message to examine, dtype: object"
      ]
     },
     "execution_count": 15,
     "metadata": {},
     "output_type": "execute_result"
    }
   ],
   "source": [
    "df['message to examine'].head(15)"
   ]
  },
  {
   "cell_type": "code",
   "execution_count": 16,
   "id": "edf476c0",
   "metadata": {},
   "outputs": [
    {
     "name": "stderr",
     "output_type": "stream",
     "text": [
      "[nltk_data] Downloading package wordnet to\n",
      "[nltk_data]     C:\\Users\\klacz\\AppData\\Roaming\\nltk_data...\n",
      "[nltk_data]   Package wordnet is already up-to-date!\n"
     ]
    },
    {
     "data": {
      "text/html": [
       "<div>\n",
       "<style scoped>\n",
       "    .dataframe tbody tr th:only-of-type {\n",
       "        vertical-align: middle;\n",
       "    }\n",
       "\n",
       "    .dataframe tbody tr th {\n",
       "        vertical-align: top;\n",
       "    }\n",
       "\n",
       "    .dataframe thead th {\n",
       "        text-align: right;\n",
       "    }\n",
       "</style>\n",
       "<table border=\"1\" class=\"dataframe\">\n",
       "  <thead>\n",
       "    <tr style=\"text-align: right;\">\n",
       "      <th></th>\n",
       "      <th>Index</th>\n",
       "      <th>message to examine</th>\n",
       "      <th>label (depression result)</th>\n",
       "      <th>length</th>\n",
       "    </tr>\n",
       "  </thead>\n",
       "  <tbody>\n",
       "    <tr>\n",
       "      <th>0</th>\n",
       "      <td>106</td>\n",
       "      <td>real good moment. missssssssss much,</td>\n",
       "      <td>0</td>\n",
       "      <td>57</td>\n",
       "    </tr>\n",
       "    <tr>\n",
       "      <th>1</th>\n",
       "      <td>217</td>\n",
       "      <td>reading manga http://plurk.com/p/mzp1e</td>\n",
       "      <td>0</td>\n",
       "      <td>42</td>\n",
       "    </tr>\n",
       "    <tr>\n",
       "      <th>2</th>\n",
       "      <td>220</td>\n",
       "      <td>@comeagainjen http://twitpic.com/2y2lx - http:...</td>\n",
       "      <td>0</td>\n",
       "      <td>84</td>\n",
       "    </tr>\n",
       "    <tr>\n",
       "      <th>3</th>\n",
       "      <td>288</td>\n",
       "      <td>@lapcat Need send 'em accountant tomorrow. Odd...</td>\n",
       "      <td>0</td>\n",
       "      <td>135</td>\n",
       "    </tr>\n",
       "    <tr>\n",
       "      <th>4</th>\n",
       "      <td>540</td>\n",
       "      <td>ADD ME ON MYSPACE!!! myspace.com/LookThunder</td>\n",
       "      <td>0</td>\n",
       "      <td>45</td>\n",
       "    </tr>\n",
       "    <tr>\n",
       "      <th>...</th>\n",
       "      <td>...</td>\n",
       "      <td>...</td>\n",
       "      <td>...</td>\n",
       "      <td>...</td>\n",
       "    </tr>\n",
       "    <tr>\n",
       "      <th>10309</th>\n",
       "      <td>802309</td>\n",
       "      <td>No Depression G Herbo mood on, i'm done stress...</td>\n",
       "      <td>1</td>\n",
       "      <td>101</td>\n",
       "    </tr>\n",
       "    <tr>\n",
       "      <th>10310</th>\n",
       "      <td>802310</td>\n",
       "      <td>What depression succumbs brain makes feel like...</td>\n",
       "      <td>1</td>\n",
       "      <td>97</td>\n",
       "    </tr>\n",
       "    <tr>\n",
       "      <th>10311</th>\n",
       "      <td>802311</td>\n",
       "      <td>Ketamine Nasal Spray Shows Promise Against Dep...</td>\n",
       "      <td>1</td>\n",
       "      <td>96</td>\n",
       "    </tr>\n",
       "    <tr>\n",
       "      <th>10312</th>\n",
       "      <td>802312</td>\n",
       "      <td>dont mistake bad day depression! everyone 'em!</td>\n",
       "      <td>1</td>\n",
       "      <td>57</td>\n",
       "    </tr>\n",
       "    <tr>\n",
       "      <th>10313</th>\n",
       "      <td>802313</td>\n",
       "      <td>0</td>\n",
       "      <td>1</td>\n",
       "      <td>1</td>\n",
       "    </tr>\n",
       "  </tbody>\n",
       "</table>\n",
       "<p>10314 rows × 4 columns</p>\n",
       "</div>"
      ],
      "text/plain": [
       "        Index                                 message to examine  \\\n",
       "0         106               real good moment. missssssssss much,   \n",
       "1         217             reading manga http://plurk.com/p/mzp1e   \n",
       "2         220  @comeagainjen http://twitpic.com/2y2lx - http:...   \n",
       "3         288  @lapcat Need send 'em accountant tomorrow. Odd...   \n",
       "4         540       ADD ME ON MYSPACE!!! myspace.com/LookThunder   \n",
       "...       ...                                                ...   \n",
       "10309  802309  No Depression G Herbo mood on, i'm done stress...   \n",
       "10310  802310  What depression succumbs brain makes feel like...   \n",
       "10311  802311  Ketamine Nasal Spray Shows Promise Against Dep...   \n",
       "10312  802312     dont mistake bad day depression! everyone 'em!   \n",
       "10313  802313                                                  0   \n",
       "\n",
       "       label (depression result)  length  \n",
       "0                              0      57  \n",
       "1                              0      42  \n",
       "2                              0      84  \n",
       "3                              0     135  \n",
       "4                              0      45  \n",
       "...                          ...     ...  \n",
       "10309                          1     101  \n",
       "10310                          1      97  \n",
       "10311                          1      96  \n",
       "10312                          1      57  \n",
       "10313                          1       1  \n",
       "\n",
       "[10314 rows x 4 columns]"
      ]
     },
     "execution_count": 16,
     "metadata": {},
     "output_type": "execute_result"
    }
   ],
   "source": [
    "nltk.download('wordnet')\n",
    "from nltk.corpus import stopwords\n",
    "\n",
    "#deleting stopwords:\n",
    "STOPWORDS = set(stopwords.words('english'))\n",
    "\n",
    "def stopwords(text):\n",
    "    return \" \".join([word for word in text.split() if word not in STOPWORDS])\n",
    "\n",
    "df['message to examine'] = df['message to examine'].apply(stopwords)\n",
    "\n",
    "df"
   ]
  },
  {
   "cell_type": "code",
   "execution_count": 17,
   "id": "00dc3d14",
   "metadata": {},
   "outputs": [],
   "source": [
    "def text_process(text):\n",
    "    #The regular expression pattern describing links\n",
    "    pattern = re.compile(r'(https?://\\S+)|(www\\.\\S+)|(\\S+\\.\\S+/\\S+)')\n",
    "    text = re.sub(pattern, \"\", text)\n",
    "    #Changing uppercase letters to lowercase\n",
    "    text = text.lower()\n",
    "    #Replacing digits with nothing\n",
    "    text = re.sub('\\d', '', text)\n",
    "    #Removing whitespace at the beginning and end of the text\n",
    "    text = text.strip()\n",
    "    #Removing punctuation\n",
    "    brak_interpunkcji = [char for char in text if char not in string.punctuation]\n",
    "    #Rejoining\n",
    "    text = ''.join(brak_interpunkcji)\n",
    "    return text\n",
    "\n",
    "\n",
    "#Checking if the function works.\n",
    "\n",
    "df['message to examine']=df['message to examine'].apply(text_process)\n"
   ]
  },
  {
   "cell_type": "code",
   "execution_count": 18,
   "id": "167268e7",
   "metadata": {},
   "outputs": [
    {
     "data": {
      "text/html": [
       "<div>\n",
       "<style scoped>\n",
       "    .dataframe tbody tr th:only-of-type {\n",
       "        vertical-align: middle;\n",
       "    }\n",
       "\n",
       "    .dataframe tbody tr th {\n",
       "        vertical-align: top;\n",
       "    }\n",
       "\n",
       "    .dataframe thead th {\n",
       "        text-align: right;\n",
       "    }\n",
       "</style>\n",
       "<table border=\"1\" class=\"dataframe\">\n",
       "  <thead>\n",
       "    <tr style=\"text-align: right;\">\n",
       "      <th></th>\n",
       "      <th>Index</th>\n",
       "      <th>message to examine</th>\n",
       "      <th>label (depression result)</th>\n",
       "      <th>length</th>\n",
       "    </tr>\n",
       "  </thead>\n",
       "  <tbody>\n",
       "    <tr>\n",
       "      <th>0</th>\n",
       "      <td>106</td>\n",
       "      <td>real good moment miss much</td>\n",
       "      <td>0</td>\n",
       "      <td>57</td>\n",
       "    </tr>\n",
       "    <tr>\n",
       "      <th>1</th>\n",
       "      <td>217</td>\n",
       "      <td>reading manga</td>\n",
       "      <td>0</td>\n",
       "      <td>42</td>\n",
       "    </tr>\n",
       "    <tr>\n",
       "      <th>2</th>\n",
       "      <td>220</td>\n",
       "      <td>comeagainjen</td>\n",
       "      <td>0</td>\n",
       "      <td>84</td>\n",
       "    </tr>\n",
       "    <tr>\n",
       "      <th>3</th>\n",
       "      <td>288</td>\n",
       "      <td>lapcat need send em accountant tomorrow oddly ...</td>\n",
       "      <td>0</td>\n",
       "      <td>135</td>\n",
       "    </tr>\n",
       "    <tr>\n",
       "      <th>4</th>\n",
       "      <td>540</td>\n",
       "      <td>add me on myspace</td>\n",
       "      <td>0</td>\n",
       "      <td>45</td>\n",
       "    </tr>\n",
       "    <tr>\n",
       "      <th>...</th>\n",
       "      <td>...</td>\n",
       "      <td>...</td>\n",
       "      <td>...</td>\n",
       "      <td>...</td>\n",
       "    </tr>\n",
       "    <tr>\n",
       "      <th>10309</th>\n",
       "      <td>802309</td>\n",
       "      <td>no depression g herbo mood on im done stressin...</td>\n",
       "      <td>1</td>\n",
       "      <td>101</td>\n",
       "    </tr>\n",
       "    <tr>\n",
       "      <th>10310</th>\n",
       "      <td>802310</td>\n",
       "      <td>what depression succumbs brain make feel like ...</td>\n",
       "      <td>1</td>\n",
       "      <td>97</td>\n",
       "    </tr>\n",
       "    <tr>\n",
       "      <th>10311</th>\n",
       "      <td>802311</td>\n",
       "      <td>ketamine nasal spray show promise against depr...</td>\n",
       "      <td>1</td>\n",
       "      <td>96</td>\n",
       "    </tr>\n",
       "    <tr>\n",
       "      <th>10312</th>\n",
       "      <td>802312</td>\n",
       "      <td>dont mistake bad day depression everyone em</td>\n",
       "      <td>1</td>\n",
       "      <td>57</td>\n",
       "    </tr>\n",
       "    <tr>\n",
       "      <th>10313</th>\n",
       "      <td>802313</td>\n",
       "      <td></td>\n",
       "      <td>1</td>\n",
       "      <td>1</td>\n",
       "    </tr>\n",
       "  </tbody>\n",
       "</table>\n",
       "<p>10314 rows × 4 columns</p>\n",
       "</div>"
      ],
      "text/plain": [
       "        Index                                 message to examine  \\\n",
       "0         106                         real good moment miss much   \n",
       "1         217                                      reading manga   \n",
       "2         220                                       comeagainjen   \n",
       "3         288  lapcat need send em accountant tomorrow oddly ...   \n",
       "4         540                                  add me on myspace   \n",
       "...       ...                                                ...   \n",
       "10309  802309  no depression g herbo mood on im done stressin...   \n",
       "10310  802310  what depression succumbs brain make feel like ...   \n",
       "10311  802311  ketamine nasal spray show promise against depr...   \n",
       "10312  802312        dont mistake bad day depression everyone em   \n",
       "10313  802313                                                      \n",
       "\n",
       "       label (depression result)  length  \n",
       "0                              0      57  \n",
       "1                              0      42  \n",
       "2                              0      84  \n",
       "3                              0     135  \n",
       "4                              0      45  \n",
       "...                          ...     ...  \n",
       "10309                          1     101  \n",
       "10310                          1      97  \n",
       "10311                          1      96  \n",
       "10312                          1      57  \n",
       "10313                          1       1  \n",
       "\n",
       "[10314 rows x 4 columns]"
      ]
     },
     "execution_count": 18,
     "metadata": {},
     "output_type": "execute_result"
    }
   ],
   "source": [
    "#Lemmatization\n",
    "lemmatizer = nltk.stem.wordnet.WordNetLemmatizer()\n",
    "\n",
    "def lemmatizeRows(text):\n",
    "    return \" \".join([lemmatizer.lemmatize(word) for word in text.split()])\n",
    "\n",
    "df['message to examine'] = df['message to examine'].apply(lemmatizeRows)\n",
    "\n",
    "df\n"
   ]
  },
  {
   "cell_type": "code",
   "execution_count": 19,
   "id": "6c49fe28",
   "metadata": {},
   "outputs": [
    {
     "data": {
      "text/html": [
       "<div>\n",
       "<style scoped>\n",
       "    .dataframe tbody tr th:only-of-type {\n",
       "        vertical-align: middle;\n",
       "    }\n",
       "\n",
       "    .dataframe tbody tr th {\n",
       "        vertical-align: top;\n",
       "    }\n",
       "\n",
       "    .dataframe thead th {\n",
       "        text-align: right;\n",
       "    }\n",
       "</style>\n",
       "<table border=\"1\" class=\"dataframe\">\n",
       "  <thead>\n",
       "    <tr style=\"text-align: right;\">\n",
       "      <th></th>\n",
       "      <th>Index</th>\n",
       "      <th>message to examine</th>\n",
       "      <th>label (depression result)</th>\n",
       "      <th>length</th>\n",
       "    </tr>\n",
       "  </thead>\n",
       "  <tbody>\n",
       "    <tr>\n",
       "      <th>0</th>\n",
       "      <td>106</td>\n",
       "      <td>real good moment miss much</td>\n",
       "      <td>0</td>\n",
       "      <td>57</td>\n",
       "    </tr>\n",
       "    <tr>\n",
       "      <th>1</th>\n",
       "      <td>217</td>\n",
       "      <td>read manga</td>\n",
       "      <td>0</td>\n",
       "      <td>42</td>\n",
       "    </tr>\n",
       "    <tr>\n",
       "      <th>2</th>\n",
       "      <td>220</td>\n",
       "      <td>comeagainjen</td>\n",
       "      <td>0</td>\n",
       "      <td>84</td>\n",
       "    </tr>\n",
       "    <tr>\n",
       "      <th>3</th>\n",
       "      <td>288</td>\n",
       "      <td>lapcat need send em account tomorrow oddli i e...</td>\n",
       "      <td>0</td>\n",
       "      <td>135</td>\n",
       "    </tr>\n",
       "    <tr>\n",
       "      <th>4</th>\n",
       "      <td>540</td>\n",
       "      <td>add me on myspac</td>\n",
       "      <td>0</td>\n",
       "      <td>45</td>\n",
       "    </tr>\n",
       "    <tr>\n",
       "      <th>5</th>\n",
       "      <td>624</td>\n",
       "      <td>sleepi good time tonight though</td>\n",
       "      <td>0</td>\n",
       "      <td>37</td>\n",
       "    </tr>\n",
       "    <tr>\n",
       "      <th>6</th>\n",
       "      <td>701</td>\n",
       "      <td>silkcharm re nbn someon alreadi said fiber hom...</td>\n",
       "      <td>0</td>\n",
       "      <td>109</td>\n",
       "    </tr>\n",
       "    <tr>\n",
       "      <th>7</th>\n",
       "      <td>808</td>\n",
       "      <td>ï¿½c possibl today nice</td>\n",
       "      <td>0</td>\n",
       "      <td>34</td>\n",
       "    </tr>\n",
       "    <tr>\n",
       "      <th>8</th>\n",
       "      <td>1193</td>\n",
       "      <td>nite twittervil workout ciao</td>\n",
       "      <td>0</td>\n",
       "      <td>43</td>\n",
       "    </tr>\n",
       "    <tr>\n",
       "      <th>9</th>\n",
       "      <td>1324</td>\n",
       "      <td>danann night darlin sweet dream</td>\n",
       "      <td>0</td>\n",
       "      <td>47</td>\n",
       "    </tr>\n",
       "    <tr>\n",
       "      <th>10</th>\n",
       "      <td>1332</td>\n",
       "      <td>good morn everybodi</td>\n",
       "      <td>0</td>\n",
       "      <td>24</td>\n",
       "    </tr>\n",
       "    <tr>\n",
       "      <th>11</th>\n",
       "      <td>1368</td>\n",
       "      <td>final i creat wordpress blog there alreadi blo...</td>\n",
       "      <td>0</td>\n",
       "      <td>131</td>\n",
       "    </tr>\n",
       "    <tr>\n",
       "      <th>12</th>\n",
       "      <td>1578</td>\n",
       "      <td>kisha cnt get u til get frm u rememb ur top</td>\n",
       "      <td>0</td>\n",
       "      <td>79</td>\n",
       "    </tr>\n",
       "    <tr>\n",
       "      <th>13</th>\n",
       "      <td>1595</td>\n",
       "      <td>nicolerichi ye rememb band it awesom will plea...</td>\n",
       "      <td>0</td>\n",
       "      <td>78</td>\n",
       "    </tr>\n",
       "    <tr>\n",
       "      <th>14</th>\n",
       "      <td>1861</td>\n",
       "      <td>i realli love reflect shadow</td>\n",
       "      <td>0</td>\n",
       "      <td>38</td>\n",
       "    </tr>\n",
       "  </tbody>\n",
       "</table>\n",
       "</div>"
      ],
      "text/plain": [
       "    Index                                 message to examine  \\\n",
       "0     106                         real good moment miss much   \n",
       "1     217                                         read manga   \n",
       "2     220                                       comeagainjen   \n",
       "3     288  lapcat need send em account tomorrow oddli i e...   \n",
       "4     540                                   add me on myspac   \n",
       "5     624                    sleepi good time tonight though   \n",
       "6     701  silkcharm re nbn someon alreadi said fiber hom...   \n",
       "7     808                            ï¿½c possibl today nice   \n",
       "8    1193                       nite twittervil workout ciao   \n",
       "9    1324                    danann night darlin sweet dream   \n",
       "10   1332                                good morn everybodi   \n",
       "11   1368  final i creat wordpress blog there alreadi blo...   \n",
       "12   1578        kisha cnt get u til get frm u rememb ur top   \n",
       "13   1595  nicolerichi ye rememb band it awesom will plea...   \n",
       "14   1861                       i realli love reflect shadow   \n",
       "\n",
       "    label (depression result)  length  \n",
       "0                           0      57  \n",
       "1                           0      42  \n",
       "2                           0      84  \n",
       "3                           0     135  \n",
       "4                           0      45  \n",
       "5                           0      37  \n",
       "6                           0     109  \n",
       "7                           0      34  \n",
       "8                           0      43  \n",
       "9                           0      47  \n",
       "10                          0      24  \n",
       "11                          0     131  \n",
       "12                          0      79  \n",
       "13                          0      78  \n",
       "14                          0      38  "
      ]
     },
     "execution_count": 19,
     "metadata": {},
     "output_type": "execute_result"
    }
   ],
   "source": [
    "#stemming\n",
    "from nltk.stem import PorterStemmer\n",
    "stemmer = PorterStemmer()\n",
    "\n",
    "def stemRows(text):\n",
    "    return \" \".join([stemmer.stem(word) for word in text.split()])\n",
    "\n",
    "df['message to examine'] = df['message to examine'].apply(stemRows)\n",
    "\n",
    "df.head(15)"
   ]
  },
  {
   "cell_type": "markdown",
   "id": "66e358d9",
   "metadata": {},
   "source": [
    "# CREATING A VECTORIZER"
   ]
  },
  {
   "cell_type": "code",
   "execution_count": 20,
   "id": "354bc43f",
   "metadata": {},
   "outputs": [],
   "source": [
    "from sklearn.feature_extraction.text import CountVectorizer"
   ]
  },
  {
   "cell_type": "code",
   "execution_count": 21,
   "id": "4437d97a",
   "metadata": {},
   "outputs": [
    {
     "name": "stdout",
     "output_type": "stream",
     "text": [
      "116\n"
     ]
    }
   ],
   "source": [
    "transformer = CountVectorizer(analyzer=text_process).fit(df['message to examine'])\n",
    "\n",
    "#Printing the number of words\n",
    "print(len(transformer.vocabulary_))"
   ]
  },
  {
   "cell_type": "code",
   "execution_count": 22,
   "id": "5041dfc1",
   "metadata": {},
   "outputs": [],
   "source": [
    "from sklearn.feature_extraction.text import TfidfTransformer\n",
    "messages_bow = transformer.transform(df['message to examine'])\n",
    "tfidf_transformer = TfidfTransformer().fit(messages_bow)\n"
   ]
  },
  {
   "cell_type": "code",
   "execution_count": 23,
   "id": "7bcc2f02",
   "metadata": {},
   "outputs": [
    {
     "name": "stdout",
     "output_type": "stream",
     "text": [
      "(10314, 116)\n"
     ]
    }
   ],
   "source": [
    "messages_tfidf = tfidf_transformer.transform(messages_bow)\n",
    "print(messages_tfidf.shape)"
   ]
  },
  {
   "cell_type": "markdown",
   "id": "4c2c31d5",
   "metadata": {},
   "source": [
    "# BUILDING THE MODEL"
   ]
  },
  {
   "cell_type": "code",
   "execution_count": 24,
   "id": "cacb07a3",
   "metadata": {},
   "outputs": [],
   "source": [
    "from sklearn.naive_bayes import MultinomialNB\n",
    "depression_detect_model = MultinomialNB().fit(messages_tfidf, df['label (depression result)'])"
   ]
  },
  {
   "cell_type": "code",
   "execution_count": 25,
   "id": "2aa6e8d9",
   "metadata": {},
   "outputs": [
    {
     "name": "stdout",
     "output_type": "stream",
     "text": [
      "predicted: 0\n",
      "expected: 0\n"
     ]
    }
   ],
   "source": [
    "#Testing if the model works for a random tweet\n",
    "\n",
    "message10 = df['message to examine'][9]\n",
    "bow10 = transformer.transform([message10])\n",
    "tfidf10 = tfidf_transformer.transform(bow10)\n",
    "\n",
    "print('predicted:', depression_detect_model.predict(tfidf10)[0])\n",
    "print('expected:', df['label (depression result)'][3])"
   ]
  },
  {
   "cell_type": "markdown",
   "id": "8a69e6b4",
   "metadata": {},
   "source": [
    "# TRAIN TEST SPLIT"
   ]
  },
  {
   "cell_type": "code",
   "execution_count": 26,
   "id": "28a4e4f7",
   "metadata": {},
   "outputs": [
    {
     "name": "stdout",
     "output_type": "stream",
     "text": [
      "7219 3095 10314\n"
     ]
    }
   ],
   "source": [
    "#30% of the data is taken as the test set, and 70% of the data is taken as the training set\n",
    "from sklearn.model_selection import train_test_split\n",
    "\n",
    "x_train, x_test, Y_train, Y_test = \\\n",
    "train_test_split(df['message to examine'], df['label (depression result)'], test_size=0.3)\n",
    "\n",
    "print(len(x_train), len(x_test), len(x_train) + len(x_test))"
   ]
  },
  {
   "cell_type": "code",
   "execution_count": 27,
   "id": "db78d3da",
   "metadata": {},
   "outputs": [],
   "source": [
    "from sklearn.pipeline import Pipeline\n",
    "\n",
    "pipeline = Pipeline([\n",
    "    ('bow', CountVectorizer(analyzer=text_process)), \n",
    "    ('tfidf', TfidfTransformer()),  \n",
    "    ('classifier', MultinomialNB()),  \n",
    "])"
   ]
  },
  {
   "cell_type": "code",
   "execution_count": 28,
   "id": "ffcee1c7",
   "metadata": {},
   "outputs": [
    {
     "data": {
      "text/plain": [
       "Pipeline(steps=[('bow',\n",
       "                 CountVectorizer(analyzer=<function text_process at 0x0000024FC8345700>)),\n",
       "                ('tfidf', TfidfTransformer()),\n",
       "                ('classifier', MultinomialNB())])"
      ]
     },
     "execution_count": 28,
     "metadata": {},
     "output_type": "execute_result"
    }
   ],
   "source": [
    "pipeline.fit(x_train,Y_train)"
   ]
  },
  {
   "cell_type": "code",
   "execution_count": 29,
   "id": "eddfb8cc",
   "metadata": {},
   "outputs": [],
   "source": [
    "predictions = pipeline.predict(x_test)"
   ]
  },
  {
   "cell_type": "markdown",
   "id": "077ecc18",
   "metadata": {},
   "source": [
    "# MODEL EVALUATION"
   ]
  },
  {
   "cell_type": "code",
   "execution_count": 30,
   "id": "02c9e049",
   "metadata": {},
   "outputs": [
    {
     "name": "stdout",
     "output_type": "stream",
     "text": [
      "              precision    recall  f1-score   support\n",
      "\n",
      "           0       1.00      0.81      0.89      2983\n",
      "           1       0.16      0.96      0.27       112\n",
      "\n",
      "    accuracy                           0.81      3095\n",
      "   macro avg       0.58      0.88      0.58      3095\n",
      "weighted avg       0.97      0.81      0.87      3095\n",
      "\n"
     ]
    }
   ],
   "source": [
    "from sklearn.metrics import classification_report\n",
    "print(classification_report(predictions,Y_test))"
   ]
  },
  {
   "cell_type": "markdown",
   "id": "21b7de03",
   "metadata": {},
   "source": [
    "# CHECKING OTHER MODELS"
   ]
  },
  {
   "cell_type": "code",
   "execution_count": 31,
   "id": "b2a626dc",
   "metadata": {},
   "outputs": [],
   "source": [
    "from sklearn.linear_model import LogisticRegression\n",
    "from sklearn.tree import DecisionTreeClassifier\n",
    "from sklearn.ensemble import RandomForestClassifier\n",
    "from sklearn.svm import LinearSVC"
   ]
  },
  {
   "cell_type": "code",
   "execution_count": 32,
   "id": "67951435",
   "metadata": {},
   "outputs": [
    {
     "name": "stdout",
     "output_type": "stream",
     "text": [
      "{0: 0.644625, 1: 2.228608470181504}\n"
     ]
    },
    {
     "data": {
      "text/plain": [
       "LinearSVC(class_weight={0: 0.644625, 1: 2.228608470181504}, random_state=0)"
      ]
     },
     "execution_count": 32,
     "metadata": {},
     "output_type": "execute_result"
    }
   ],
   "source": [
    "#Compute_class_weight will be used to calculate class weights in a balanced way to account for class imbalance \n",
    "#and improve the model's performance\n",
    "\n",
    "from sklearn.utils import compute_class_weight\n",
    "import numpy as np\n",
    "from sklearn.feature_extraction.text import TfidfVectorizer\n",
    "vectorizer = TfidfVectorizer()\n",
    "dataVectorized = vectorizer.fit_transform(df['message to examine'])\n",
    "dataVectorized.toarray().shape\n",
    "x_train, x_test ,Y_train ,Y_test = train_test_split(dataVectorized, df['label (depression result)'], test_size=0.3,\\\n",
    "                                                    stratify= df['label (depression result)']  , random_state=0)\n",
    "\n",
    "\n",
    "classWeights = compute_class_weight(\"balanced\", classes = np.unique(df['label (depression result)']),\n",
    "                                     y = df['label (depression result)'])\n",
    "classWeights = dict(zip(np.unique(np.unique(df['label (depression result)'])), classWeights))\n",
    "print(classWeights)\n",
    "\n",
    "\n",
    "lr = LogisticRegression(class_weight=classWeights, random_state=0)\n",
    "dt = DecisionTreeClassifier(class_weight=classWeights, random_state=0)\n",
    "rf = RandomForestClassifier(class_weight=classWeights, random_state=0)\n",
    "svc = LinearSVC(class_weight=classWeights, random_state=0)\n",
    "\n",
    "lr.fit(x_train.toarray(), Y_train)\n",
    "dt.fit(x_train.toarray(), Y_train)\n",
    "rf.fit(x_train.toarray(), Y_train)\n",
    "svc.fit(x_train.toarray(), Y_train)"
   ]
  },
  {
   "cell_type": "code",
   "execution_count": 33,
   "id": "4fea240d",
   "metadata": {},
   "outputs": [],
   "source": [
    "lrPreds = lr.predict(x_test.toarray())\n",
    "dtPreds = dt.predict(x_test.toarray())\n",
    "rfPreds = rf.predict(x_test.toarray())\n",
    "svcPreds = svc.predict(x_test.toarray())"
   ]
  },
  {
   "cell_type": "code",
   "execution_count": 34,
   "id": "d8a29246",
   "metadata": {},
   "outputs": [
    {
     "name": "stdout",
     "output_type": "stream",
     "text": [
      "Logistic Regression Classification Report: \n",
      "               precision    recall  f1-score   support\n",
      "\n",
      "          No       0.98      1.00      0.99      2401\n",
      "         Yes       1.00      0.95      0.97       694\n",
      "\n",
      "    accuracy                           0.99      3095\n",
      "   macro avg       0.99      0.97      0.98      3095\n",
      "weighted avg       0.99      0.99      0.99      3095\n",
      "\n"
     ]
    }
   ],
   "source": [
    "from sklearn.metrics import classification_report\n",
    "\n",
    "classification_report = classification_report(Y_test, lrPreds, target_names=['No','Yes'])\n",
    "print('Logistic Regression Classification Report: \\n',classification_report)"
   ]
  },
  {
   "cell_type": "code",
   "execution_count": 35,
   "id": "ef00ccf4",
   "metadata": {},
   "outputs": [
    {
     "name": "stdout",
     "output_type": "stream",
     "text": [
      "Decision Tree Classification Report: \n",
      "               precision    recall  f1-score   support\n",
      "\n",
      "          No       0.99      0.92      0.96      2401\n",
      "         Yes       0.78      0.98      0.87       694\n",
      "\n",
      "    accuracy                           0.93      3095\n",
      "   macro avg       0.89      0.95      0.91      3095\n",
      "weighted avg       0.95      0.93      0.94      3095\n",
      "\n"
     ]
    }
   ],
   "source": [
    "from sklearn.metrics import classification_report\n",
    "\n",
    "classification_report = classification_report(Y_test, dtPreds, target_names=['No','Yes'])\n",
    "print('Decision Tree Classification Report: \\n',classification_report)"
   ]
  },
  {
   "cell_type": "code",
   "execution_count": 36,
   "id": "5db42034",
   "metadata": {},
   "outputs": [
    {
     "name": "stdout",
     "output_type": "stream",
     "text": [
      "Random Forest Classification Report: \n",
      "               precision    recall  f1-score   support\n",
      "\n",
      "          No       0.99      0.93      0.96      2401\n",
      "         Yes       0.80      0.96      0.87       694\n",
      "\n",
      "    accuracy                           0.94      3095\n",
      "   macro avg       0.89      0.95      0.92      3095\n",
      "weighted avg       0.95      0.94      0.94      3095\n",
      "\n"
     ]
    }
   ],
   "source": [
    "from sklearn.metrics import classification_report\n",
    "\n",
    "classification_report = classification_report(Y_test, rfPreds, target_names=['No','Yes'])\n",
    "print('Random Forest Classification Report: \\n',classification_report)"
   ]
  },
  {
   "cell_type": "code",
   "execution_count": 37,
   "id": "d6c1cd24",
   "metadata": {},
   "outputs": [
    {
     "name": "stdout",
     "output_type": "stream",
     "text": [
      "Support Vector Classification Report: \n",
      "               precision    recall  f1-score   support\n",
      "\n",
      "          No       0.99      1.00      0.99      2401\n",
      "         Yes       1.00      0.95      0.98       694\n",
      "\n",
      "    accuracy                           0.99      3095\n",
      "   macro avg       0.99      0.98      0.98      3095\n",
      "weighted avg       0.99      0.99      0.99      3095\n",
      "\n"
     ]
    }
   ],
   "source": [
    "from sklearn.metrics import classification_report\n",
    "\n",
    "classification_report = classification_report(Y_test, svcPreds, target_names=['No','Yes'])\n",
    "print('Support Vector Classification Report: \\n',classification_report)"
   ]
  },
  {
   "cell_type": "markdown",
   "id": "4082211e",
   "metadata": {},
   "source": [
    "Based on the above statistics, I choose the SVC - Support Vector Classification model."
   ]
  },
  {
   "cell_type": "code",
   "execution_count": 38,
   "id": "cbed5931",
   "metadata": {},
   "outputs": [
    {
     "name": "stdout",
     "output_type": "stream",
     "text": [
      "Best parameters: {'bow__max_features': 500, 'classifier__C': 20, 'classifier__max_iter': 300, 'classifier__penalty': 'l2', 'tfidf__use_idf': True}\n"
     ]
    }
   ],
   "source": [
    "#The best parameters for the model are being searched for\n",
    "from sklearn.model_selection import GridSearchCV\n",
    "from sklearn.svm import SVC\n",
    "\n",
    "x_train, x_test, Y_train, Y_test = \\\n",
    "train_test_split(df['message to examine'], df['label (depression result)'], test_size=0.3)\n",
    "\n",
    "#Model definition\n",
    "model = Pipeline([\n",
    "    ('bow', CountVectorizer(analyzer=text_process)), \n",
    "    ('tfidf', TfidfTransformer()),  \n",
    "    ('classifier', LinearSVC()),  \n",
    "])\n",
    "\n",
    "param_grid = {\n",
    "    'bow__max_features': [100, 500, 1000],\n",
    "    'tfidf__use_idf': [True, False],\n",
    "    'classifier__C': [5, 10, 20],\n",
    "    'classifier__penalty': ['l1', 'l2'],\n",
    "    'classifier__max_iter': [100,300,500]\n",
    "}\n",
    "\n",
    "\n",
    "#Creating a Grid Search object\n",
    "grid_search = GridSearchCV(estimator=model, param_grid=param_grid, scoring='accuracy', cv=5)\n",
    "\n",
    "#Performing the search.\"\n",
    "grid_search.fit(x_train, Y_train)\n",
    "\n",
    "#Best parameters\n",
    "best_params = grid_search.best_params_\n",
    "print(\"Best parameters:\", best_params)"
   ]
  },
  {
   "cell_type": "markdown",
   "id": "23bd1fd3",
   "metadata": {},
   "source": [
    "Note: It took many iterations of the aboove Grid Search to come up with the final verion of optimal candiate values."
   ]
  },
  {
   "cell_type": "code",
   "execution_count": 39,
   "id": "4bb63d44",
   "metadata": {},
   "outputs": [],
   "source": [
    "x_train, x_test, Y_train, Y_test = \\\n",
    "train_test_split(df['message to examine'], df['label (depression result)'], test_size=0.3)"
   ]
  },
  {
   "cell_type": "code",
   "execution_count": 40,
   "id": "1f160e55",
   "metadata": {},
   "outputs": [],
   "source": [
    "#The parameters determined by grid search are being set as the best.\"\n",
    "pipeline2 = Pipeline([\n",
    "    ('bow', CountVectorizer(analyzer=text_process, max_features=500)), \n",
    "    ('tfidf', TfidfTransformer()),  \n",
    "    ('classifier', LinearSVC(C=20,max_iter=300 )),  \n",
    "])"
   ]
  },
  {
   "cell_type": "markdown",
   "id": "b4dea119",
   "metadata": {},
   "source": [
    "# CHECKING IF THE SELECTED MODEL WORKS ON NEW DATA"
   ]
  },
  {
   "cell_type": "code",
   "execution_count": 41,
   "id": "1d9526d6",
   "metadata": {},
   "outputs": [
    {
     "data": {
      "text/plain": [
       "Pipeline(steps=[('bow',\n",
       "                 CountVectorizer(analyzer=<function text_process at 0x0000024FC8345700>,\n",
       "                                 max_features=500)),\n",
       "                ('tfidf', TfidfTransformer()),\n",
       "                ('classifier', LinearSVC(C=20, max_iter=300))])"
      ]
     },
     "execution_count": 41,
     "metadata": {},
     "output_type": "execute_result"
    }
   ],
   "source": [
    "pipeline2.fit(x_train,Y_train)"
   ]
  },
  {
   "cell_type": "code",
   "execution_count": 42,
   "id": "89eed660",
   "metadata": {},
   "outputs": [
    {
     "data": {
      "text/plain": [
       "1"
      ]
     },
     "execution_count": 42,
     "metadata": {},
     "output_type": "execute_result"
    }
   ],
   "source": [
    "pipeline2.predict(['I am very depressed'])[0]"
   ]
  },
  {
   "cell_type": "code",
   "execution_count": 43,
   "id": "cef669a4",
   "metadata": {},
   "outputs": [
    {
     "data": {
      "text/plain": [
       "0"
      ]
     },
     "execution_count": 43,
     "metadata": {},
     "output_type": "execute_result"
    }
   ],
   "source": [
    "pipeline2.predict(['I am happy and healthy'])[0]"
   ]
  }
 ],
 "metadata": {
  "kernelspec": {
   "display_name": "Python 3 (ipykernel)",
   "language": "python",
   "name": "python3"
  },
  "language_info": {
   "codemirror_mode": {
    "name": "ipython",
    "version": 3
   },
   "file_extension": ".py",
   "mimetype": "text/x-python",
   "name": "python",
   "nbconvert_exporter": "python",
   "pygments_lexer": "ipython3",
   "version": "3.9.7"
  }
 },
 "nbformat": 4,
 "nbformat_minor": 5
}
